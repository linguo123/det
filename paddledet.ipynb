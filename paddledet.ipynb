{
 "cells": [
  {
   "cell_type": "markdown",
   "metadata": {
    "collapsed": false
   },
   "source": [
    "# 项目简介\n",
    "安全帽佩戴检测是计算机视觉在工业安全领域应用的典型场景，本文使用PaddleX动态图进行yolov3_mobilenet迁移学习训练。PaddleX升级到2.0.0-rc，基于动态图的训练和预测依然非常便捷。\n",
    "\n",
    "## 前置项目：基于Paddle 1.8.4环境的安全帽检测模型训练与部署合集\n",
    "- [PaddleX、PP-Yolo：手把手教你训练、加密、部署目标检测模型](https://aistudio.baidu.com/aistudio/projectdetail/920753)\n",
    "\t- 项目简介：基于PaddleX的pp-yolo迁移学习，通过检测人员是否戴安全帽来提高工作安全度，加密模型并使用C++本地部署，同时提供HubServing在线部署实现。\n",
    "- [安全帽佩戴检测模型训练与一键部署（PaddleX、HubServing）](https://aistudio.baidu.com/aistudio/projectdetail/742090)\n",
    "\t- 项目简介：基于PaddleX的yolov3\\_darknet53迁移学习，通过检测人员是否戴安全帽来提高工作安全度。使用HubServing进行轻量级服务化部署。\n",
    "- [PaddleLite树莓派从0到1：安全帽检测小车部署（一）](https://aistudio.baidu.com/aistudio/projectdetail/1059610)\n",
    "\t- 项目简介：介绍了在树莓派3B上安装Raspberry Pi OS 64位操作系统、组装树莓派小车、基于PaddleDetection+PaddleLite完成使用ssd\\_mobilenet\\_v1进行迁移学习的安全帽检测模型部署。\n",
    "- [巡检告警机器人上线！PaddleLite安全帽检测小车部署（二）](https://aistudio.baidu.com/aistudio/projectdetail/1209733)\n",
    "\t- 项目简介：介绍在树莓派3B上实现web端实时监控、控制LED灯与蜂鸣器报警的代码实现（C++、Python、C）。同时，将基于PaddleLite的安全帽检测模型与蜂鸣器报警结合，出现未佩戴安全帽的目标时，蜂鸣器会产生报警，并保存目标画面。\n",
    "- [部署PPDET训练的YoloV3模型：PaddleLite安全帽检测小车（三）](https://aistudio.baidu.com/aistudio/projectdetail/1292497)\n",
    "\t- 项目简介：介绍树莓派上基于PaddleDetection训练的yolov3安全帽检测部署、蜂鸣器报警功能的实现。\n",
    "- [YoloV3检测模型在树莓派上的部署（PaddleX、PaddleLite）](https://aistudio.baidu.com/aistudio/projectdetail/1227445)\n",
    "\t- 项目简介：在树莓派上部署基于PaddleX训练的yolov3\\_mobilenetv3模型。"
   ]
  },
  {
   "cell_type": "markdown",
   "metadata": {
    "collapsed": false
   },
   "source": [
    "# 准备模型库\n",
    "在新发布的2.0.0-rc版本中，PaddleX全面升级了对动态图的支持。\n",
    "\n",
    "项目环境：Paddle 2.1.0\n",
    "\n",
    "参考文档：[https://gitee.com/paddlepaddle/PaddleX/tree/release%2F2.0-rc](https://gitee.com/paddlepaddle/PaddleX/tree/release%2F2.0-rc)"
   ]
  },
  {
   "cell_type": "code",
   "execution_count": null,
   "metadata": {
    "collapsed": false
   },
   "outputs": [
    {
     "name": "stdout",
     "output_type": "stream",
     "text": [
      "Looking in indexes: https://mirror.baidu.com/pypi/simple/\n",
      "Collecting paddlex==2.0rc\n",
      "\u001b[?25l  Downloading https://mirror.baidu.com/pypi/packages/58/f4/f7c0ffec58b6cc416a855a81ef0958b48c7c3941345260f169faf3c6be6f/paddlex-2.0.0rc0-py3-none-any.whl (441kB)\n",
      "\u001b[K     |████████████████████████████████| 450kB 15.4MB/s eta 0:00:01\n",
      "\u001b[?25hRequirement already satisfied: opencv-python in /opt/conda/envs/python35-paddle120-env/lib/python3.7/site-packages (from paddlex==2.0rc) (4.1.1.26)\n",
      "Requirement already satisfied: colorama in /opt/conda/envs/python35-paddle120-env/lib/python3.7/site-packages (from paddlex==2.0rc) (0.4.4)\n",
      "Collecting shapely>=1.7.0 (from paddlex==2.0rc)\n",
      "\u001b[?25l  Downloading https://mirror.baidu.com/pypi/packages/98/f8/db4d3426a1aba9d5dfcc83ed5a3e2935d2b1deb73d350642931791a61c37/Shapely-1.7.1-cp37-cp37m-manylinux1_x86_64.whl (1.0MB)\n",
      "\u001b[K     |████████████████████████████████| 1.0MB 14.3MB/s eta 0:00:01\n",
      "\u001b[?25hRequirement already satisfied: scipy in /opt/conda/envs/python35-paddle120-env/lib/python3.7/site-packages (from paddlex==2.0rc) (1.6.3)\n",
      "Requirement already satisfied: pyyaml in /opt/conda/envs/python35-paddle120-env/lib/python3.7/site-packages (from paddlex==2.0rc) (5.1.2)\n",
      "Collecting paddleslim==2.0.0 (from paddlex==2.0rc)\n",
      "\u001b[?25l  Downloading https://mirror.baidu.com/pypi/packages/f5/72/567086025f68b20223412ddd444c23cd3a825288750b9d8699fdd424b751/paddleslim-2.0.0-py2.py3-none-any.whl (297kB)\n",
      "\u001b[K     |████████████████████████████████| 307kB 17.1MB/s eta 0:00:01\n",
      "\u001b[?25hCollecting pycocotools; platform_system != \"Windows\" (from paddlex==2.0rc)\n",
      "  Downloading https://mirror.baidu.com/pypi/packages/de/df/056875d697c45182ed6d2ae21f62015896fdb841906fe48e7268e791c467/pycocotools-2.0.2.tar.gz\n",
      "Requirement already satisfied: tqdm in /opt/conda/envs/python35-paddle120-env/lib/python3.7/site-packages (from paddlex==2.0rc) (4.36.1)\n",
      "Requirement already satisfied: visualdl>=2.1.1 in /opt/conda/envs/python35-paddle120-env/lib/python3.7/site-packages (from paddlex==2.0rc) (2.2.0)\n",
      "Requirement already satisfied: numpy>=1.14.5 in /opt/conda/envs/python35-paddle120-env/lib/python3.7/site-packages (from opencv-python->paddlex==2.0rc) (1.20.3)\n",
      "Requirement already satisfied: pillow in /opt/conda/envs/python35-paddle120-env/lib/python3.7/site-packages (from paddleslim==2.0.0->paddlex==2.0rc) (7.1.2)\n",
      "Requirement already satisfied: pyzmq in /opt/conda/envs/python35-paddle120-env/lib/python3.7/site-packages (from paddleslim==2.0.0->paddlex==2.0rc) (18.1.1)\n",
      "Requirement already satisfied: matplotlib in /opt/conda/envs/python35-paddle120-env/lib/python3.7/site-packages (from paddleslim==2.0.0->paddlex==2.0rc) (2.2.3)\n",
      "Requirement already satisfied: setuptools>=18.0 in /opt/conda/envs/python35-paddle120-env/lib/python3.7/site-packages (from pycocotools; platform_system != \"Windows\"->paddlex==2.0rc) (56.2.0)\n",
      "Requirement already satisfied: cython>=0.27.3 in /opt/conda/envs/python35-paddle120-env/lib/python3.7/site-packages (from pycocotools; platform_system != \"Windows\"->paddlex==2.0rc) (0.29)\n",
      "Requirement already satisfied: pre-commit in /opt/conda/envs/python35-paddle120-env/lib/python3.7/site-packages (from visualdl>=2.1.1->paddlex==2.0rc) (1.21.0)\n",
      "Requirement already satisfied: flask>=1.1.1 in /opt/conda/envs/python35-paddle120-env/lib/python3.7/site-packages (from visualdl>=2.1.1->paddlex==2.0rc) (1.1.1)\n",
      "Requirement already satisfied: shellcheck-py in /opt/conda/envs/python35-paddle120-env/lib/python3.7/site-packages (from visualdl>=2.1.1->paddlex==2.0rc) (0.7.1.1)\n",
      "Requirement already satisfied: bce-python-sdk in /opt/conda/envs/python35-paddle120-env/lib/python3.7/site-packages (from visualdl>=2.1.1->paddlex==2.0rc) (0.8.53)\n",
      "Requirement already satisfied: requests in /opt/conda/envs/python35-paddle120-env/lib/python3.7/site-packages (from visualdl>=2.1.1->paddlex==2.0rc) (2.22.0)\n",
      "Requirement already satisfied: pandas in /opt/conda/envs/python35-paddle120-env/lib/python3.7/site-packages (from visualdl>=2.1.1->paddlex==2.0rc) (1.1.5)\n",
      "Requirement already satisfied: six>=1.14.0 in /opt/conda/envs/python35-paddle120-env/lib/python3.7/site-packages (from visualdl>=2.1.1->paddlex==2.0rc) (1.15.0)\n",
      "Requirement already satisfied: protobuf>=3.11.0 in /opt/conda/envs/python35-paddle120-env/lib/python3.7/site-packages (from visualdl>=2.1.1->paddlex==2.0rc) (3.14.0)\n",
      "Requirement already satisfied: Flask-Babel>=1.0.0 in /opt/conda/envs/python35-paddle120-env/lib/python3.7/site-packages (from visualdl>=2.1.1->paddlex==2.0rc) (1.0.0)\n",
      "Requirement already satisfied: flake8>=3.7.9 in /opt/conda/envs/python35-paddle120-env/lib/python3.7/site-packages (from visualdl>=2.1.1->paddlex==2.0rc) (3.8.2)\n",
      "Requirement already satisfied: pyparsing!=2.0.4,!=2.1.2,!=2.1.6,>=2.0.1 in /opt/conda/envs/python35-paddle120-env/lib/python3.7/site-packages (from matplotlib->paddleslim==2.0.0->paddlex==2.0rc) (2.4.2)\n",
      "Requirement already satisfied: python-dateutil>=2.1 in /opt/conda/envs/python35-paddle120-env/lib/python3.7/site-packages (from matplotlib->paddleslim==2.0.0->paddlex==2.0rc) (2.8.0)\n",
      "Requirement already satisfied: pytz in /opt/conda/envs/python35-paddle120-env/lib/python3.7/site-packages (from matplotlib->paddleslim==2.0.0->paddlex==2.0rc) (2019.3)\n",
      "Requirement already satisfied: cycler>=0.10 in /opt/conda/envs/python35-paddle120-env/lib/python3.7/site-packages (from matplotlib->paddleslim==2.0.0->paddlex==2.0rc) (0.10.0)\n",
      "Requirement already satisfied: kiwisolver>=1.0.1 in /opt/conda/envs/python35-paddle120-env/lib/python3.7/site-packages (from matplotlib->paddleslim==2.0.0->paddlex==2.0rc) (1.1.0)\n",
      "Requirement already satisfied: aspy.yaml in /opt/conda/envs/python35-paddle120-env/lib/python3.7/site-packages (from pre-commit->visualdl>=2.1.1->paddlex==2.0rc) (1.3.0)\n",
      "Requirement already satisfied: virtualenv>=15.2 in /opt/conda/envs/python35-paddle120-env/lib/python3.7/site-packages (from pre-commit->visualdl>=2.1.1->paddlex==2.0rc) (16.7.9)\n",
      "Requirement already satisfied: nodeenv>=0.11.1 in /opt/conda/envs/python35-paddle120-env/lib/python3.7/site-packages (from pre-commit->visualdl>=2.1.1->paddlex==2.0rc) (1.3.4)\n",
      "Requirement already satisfied: importlib-metadata; python_version < \"3.8\" in /opt/conda/envs/python35-paddle120-env/lib/python3.7/site-packages (from pre-commit->visualdl>=2.1.1->paddlex==2.0rc) (0.23)\n",
      "Requirement already satisfied: cfgv>=2.0.0 in /opt/conda/envs/python35-paddle120-env/lib/python3.7/site-packages (from pre-commit->visualdl>=2.1.1->paddlex==2.0rc) (2.0.1)\n",
      "Requirement already satisfied: identify>=1.0.0 in /opt/conda/envs/python35-paddle120-env/lib/python3.7/site-packages (from pre-commit->visualdl>=2.1.1->paddlex==2.0rc) (1.4.10)\n",
      "Requirement already satisfied: toml in /opt/conda/envs/python35-paddle120-env/lib/python3.7/site-packages (from pre-commit->visualdl>=2.1.1->paddlex==2.0rc) (0.10.0)\n",
      "Requirement already satisfied: click>=5.1 in /opt/conda/envs/python35-paddle120-env/lib/python3.7/site-packages (from flask>=1.1.1->visualdl>=2.1.1->paddlex==2.0rc) (7.0)\n",
      "Requirement already satisfied: itsdangerous>=0.24 in /opt/conda/envs/python35-paddle120-env/lib/python3.7/site-packages (from flask>=1.1.1->visualdl>=2.1.1->paddlex==2.0rc) (1.1.0)\n",
      "Requirement already satisfied: Werkzeug>=0.15 in /opt/conda/envs/python35-paddle120-env/lib/python3.7/site-packages (from flask>=1.1.1->visualdl>=2.1.1->paddlex==2.0rc) (0.16.0)\n",
      "Requirement already satisfied: Jinja2>=2.10.1 in /opt/conda/envs/python35-paddle120-env/lib/python3.7/site-packages (from flask>=1.1.1->visualdl>=2.1.1->paddlex==2.0rc) (2.10.1)\n",
      "Requirement already satisfied: pycryptodome>=3.8.0 in /opt/conda/envs/python35-paddle120-env/lib/python3.7/site-packages (from bce-python-sdk->visualdl>=2.1.1->paddlex==2.0rc) (3.9.9)\n",
      "Requirement already satisfied: future>=0.6.0 in /opt/conda/envs/python35-paddle120-env/lib/python3.7/site-packages (from bce-python-sdk->visualdl>=2.1.1->paddlex==2.0rc) (0.18.0)\n",
      "Requirement already satisfied: urllib3!=1.25.0,!=1.25.1,<1.26,>=1.21.1 in /opt/conda/envs/python35-paddle120-env/lib/python3.7/site-packages (from requests->visualdl>=2.1.1->paddlex==2.0rc) (1.25.6)\n",
      "Requirement already satisfied: certifi>=2017.4.17 in /opt/conda/envs/python35-paddle120-env/lib/python3.7/site-packages (from requests->visualdl>=2.1.1->paddlex==2.0rc) (2019.9.11)\n",
      "Requirement already satisfied: idna<2.9,>=2.5 in /opt/conda/envs/python35-paddle120-env/lib/python3.7/site-packages (from requests->visualdl>=2.1.1->paddlex==2.0rc) (2.8)\n",
      "Requirement already satisfied: chardet<3.1.0,>=3.0.2 in /opt/conda/envs/python35-paddle120-env/lib/python3.7/site-packages (from requests->visualdl>=2.1.1->paddlex==2.0rc) (3.0.4)\n",
      "Requirement already satisfied: Babel>=2.3 in /opt/conda/envs/python35-paddle120-env/lib/python3.7/site-packages (from Flask-Babel>=1.0.0->visualdl>=2.1.1->paddlex==2.0rc) (2.8.0)\n",
      "Requirement already satisfied: pycodestyle<2.7.0,>=2.6.0a1 in /opt/conda/envs/python35-paddle120-env/lib/python3.7/site-packages (from flake8>=3.7.9->visualdl>=2.1.1->paddlex==2.0rc) (2.6.0)\n",
      "Requirement already satisfied: pyflakes<2.3.0,>=2.2.0 in /opt/conda/envs/python35-paddle120-env/lib/python3.7/site-packages (from flake8>=3.7.9->visualdl>=2.1.1->paddlex==2.0rc) (2.2.0)\n",
      "Requirement already satisfied: mccabe<0.7.0,>=0.6.0 in /opt/conda/envs/python35-paddle120-env/lib/python3.7/site-packages (from flake8>=3.7.9->visualdl>=2.1.1->paddlex==2.0rc) (0.6.1)\n",
      "Requirement already satisfied: zipp>=0.5 in /opt/conda/envs/python35-paddle120-env/lib/python3.7/site-packages (from importlib-metadata; python_version < \"3.8\"->pre-commit->visualdl>=2.1.1->paddlex==2.0rc) (0.6.0)\n",
      "Requirement already satisfied: MarkupSafe>=0.23 in /opt/conda/envs/python35-paddle120-env/lib/python3.7/site-packages (from Jinja2>=2.10.1->flask>=1.1.1->visualdl>=2.1.1->paddlex==2.0rc) (1.1.1)\n",
      "Requirement already satisfied: more-itertools in /opt/conda/envs/python35-paddle120-env/lib/python3.7/site-packages (from zipp>=0.5->importlib-metadata; python_version < \"3.8\"->pre-commit->visualdl>=2.1.1->paddlex==2.0rc) (7.2.0)\n",
      "Building wheels for collected packages: pycocotools\n",
      "  Building wheel for pycocotools (setup.py) ... \u001b[?25l-Installing collected packages: shapely, paddleslim, pycocotools, paddlex\n",
      "Successfully installed paddleslim-2.0.0 paddlex-2.0.0rc0 pycocotools-2.0.2 shapely-1.7.1\n"
     ]
    }
   ],
   "source": [
    "!pip install paddlex==2.0rc"
   ]
  },
  {
   "cell_type": "markdown",
   "metadata": {
    "collapsed": false
   },
   "source": [
    "到这里，我们就成功安装了PaddleX的2.0.0-rc版本，请注意，在Paddle 2.0以上的环境中，不能使用PaddleX 1.X的版本，否则后续在数据集切分时就会报错。"
   ]
  },
  {
   "cell_type": "markdown",
   "metadata": {
    "collapsed": false
   },
   "source": [
    "# 数据集准备\n",
    "本项目使用的安全帽检测数据集已经按VOC格式进行标注，目录情况如下：\n",
    "```\n",
    " dataset/                        \n",
    " ├── annotations/    \n",
    " ├── images/       \n",
    " ```\n",
    "而使用PaddleX的API，一键进行数据切分时，数据文件夹切分前后的状态如下:\n",
    "```\n",
    " dataset/                          dataset/\n",
    " ├── Annotations/      <--         ├── Annotations/\n",
    " ├── JPEGImages/                   ├── JPEGImages/\n",
    " ├── labels.txt\n",
    " ├── test_list.txt\n",
    " ├── train_list.txt\n",
    " ├── val_list.txt\n",
    " ```\n",
    " 使用稍加整理，就可以使用一键切分快速划分数据集。"
   ]
  },
  {
   "cell_type": "code",
   "execution_count": null,
   "metadata": {
    "collapsed": false
   },
   "outputs": [],
   "source": [
    "# 解压数据集，并做好数据切分准备"
   ]
  },
  {
   "cell_type": "code",
   "execution_count": null,
   "metadata": {
    "collapsed": false
   },
   "outputs": [
    {
     "name": "stdout",
     "output_type": "stream",
     "text": [
      "  inflating: ./MyDataset/images/hard_hat_workers999.png  \r"
     ]
    }
   ],
   "source": [
    "!unzip /home/aistudio/data/data50329/HelmetDetection.zip -d ./MyDataset"
   ]
  },
  {
   "cell_type": "code",
   "execution_count": null,
   "metadata": {
    "collapsed": false
   },
   "outputs": [],
   "source": [
    "!mv MyDataset/images MyDataset/JPEGImages"
   ]
  },
  {
   "cell_type": "code",
   "execution_count": null,
   "metadata": {
    "collapsed": false
   },
   "outputs": [],
   "source": [
    "!mv MyDataset/annotations MyDataset/Annotations"
   ]
  },
  {
   "cell_type": "markdown",
   "metadata": {
    "collapsed": false
   },
   "source": [
    "将训练集、验证集和测试集按照7：2：1的比例划分。 PaddleX中提供了简单易用的API，方便用户直接使用进行数据划分。下面这行代码正确执行的前提是，PaddleX的版本和Paddle匹配，要么都是2.0+，要么都是1.8.X。"
   ]
  },
  {
   "cell_type": "code",
   "execution_count": null,
   "metadata": {
    "collapsed": false
   },
   "outputs": [
    {
     "name": "stdout",
     "output_type": "stream",
     "text": [
      "/opt/conda/envs/python35-paddle120-env/lib/python3.7/site-packages/paddle/distributed/parallel.py:120: UserWarning: Currently not a parallel execution environment, `paddle.distributed.init_parallel_env` will not do anything.\n",
      "  \"Currently not a parallel execution environment, `paddle.distributed.init_parallel_env` will not do anything.\"\n",
      "\u001b[32m[08-12 14:43:24 MainThread @logger.py:242]\u001b[0m Argv: /opt/conda/envs/python35-paddle120-env/bin/paddlex --split_dataset --format VOC --dataset_dir MyDataset --val_value 0.2 --test_value 0.1\n",
      "\u001b[0m\u001b[33m[08-12 14:43:24 MainThread @utils.py:79]\u001b[0m \u001b[5m\u001b[33mWRN\u001b[0m paddlepaddle version: 2.1.2. The dynamic graph version of PARL is under development, not fully tested and supported\n",
      "\u001b[0m\u001b[0m/opt/conda/envs/python35-paddle120-env/lib/python3.7/site-packages/parl/remote/communication.py:38: DeprecationWarning: 'pyarrow.default_serialization_context' is deprecated as of 2.0.0 and will be removed in a future version. Use pickle or the pyarrow IPC functionality instead.\n",
      "  context = pyarrow.default_serialization_context()\n",
      "\u001b[0m/opt/conda/envs/python35-paddle120-env/lib/python3.7/site-packages/pyarrow/pandas_compat.py:1027: DeprecationWarning: `np.float` is a deprecated alias for the builtin `float`. To silence this warning, use `float` by itself. Doing this will not modify any behavior and is safe. If you specifically wanted the numpy scalar type, use `np.float64` here.\n",
      "Deprecated in NumPy 1.20; for more details and guidance: https://numpy.org/devdocs/release/1.20.0-notes.html#deprecations\n",
      "  'floating': np.float,\n",
      "\u001b[0m/opt/conda/envs/python35-paddle120-env/lib/python3.7/site-packages/matplotlib/__init__.py:107: DeprecationWarning: Using or importing the ABCs from 'collections' instead of from 'collections.abc' is deprecated, and in 3.8 it will stop working\n",
      "  from collections import MutableMapping\n",
      "\u001b[0m/opt/conda/envs/python35-paddle120-env/lib/python3.7/site-packages/matplotlib/rcsetup.py:20: DeprecationWarning: Using or importing the ABCs from 'collections' instead of from 'collections.abc' is deprecated, and in 3.8 it will stop working\n",
      "  from collections import Iterable, Mapping\n",
      "\u001b[0m/opt/conda/envs/python35-paddle120-env/lib/python3.7/site-packages/matplotlib/colors.py:53: DeprecationWarning: Using or importing the ABCs from 'collections' instead of from 'collections.abc' is deprecated, and in 3.8 it will stop working\n",
      "  from collections import Sized\n",
      "\u001b[0m/opt/conda/envs/python35-paddle120-env/lib/python3.7/site-packages/paddle/tensor/creation.py:125: DeprecationWarning: `np.object` is a deprecated alias for the builtin `object`. To silence this warning, use `object` by itself. Doing this will not modify any behavior and is safe. \n",
      "Deprecated in NumPy 1.20; for more details and guidance: https://numpy.org/devdocs/release/1.20.0-notes.html#deprecations\n",
      "  if data.dtype == np.object:\n",
      "2021-08-12 14:43:27 [INFO]\tDataset split starts...\u001b[0m\n",
      "\u001b[0m2021-08-12 14:43:28 [INFO]\tDataset split done.\u001b[0m\n",
      "\u001b[0m2021-08-12 14:43:28 [INFO]\tTrain samples: 3500\u001b[0m\n",
      "\u001b[0m2021-08-12 14:43:28 [INFO]\tEval samples: 1000\u001b[0m\n",
      "\u001b[0m2021-08-12 14:43:28 [INFO]\tTest samples: 500\u001b[0m\n",
      "\u001b[0m2021-08-12 14:43:28 [INFO]\tSplit files saved in MyDataset\u001b[0m\n",
      "\u001b[0m\u001b[0m\u001b[0m"
     ]
    }
   ],
   "source": [
    "!paddlex --split_dataset --format VOC --dataset_dir MyDataset --val_value 0.2 --test_value 0.1"
   ]
  },
  {
   "cell_type": "markdown",
   "metadata": {
    "collapsed": false
   },
   "source": [
    "到这里，基于PaddleX强大的API功能，安全帽检测数据集也完成了整理、划分。"
   ]
  },
  {
   "cell_type": "markdown",
   "metadata": {
    "collapsed": false
   },
   "source": [
    "# 模型训练\n",
    "PaddleX最核心的特点就是模型训练极其简单，比如下面几行代码演示的，只要配置了数据集目录，选择好模型即可。"
   ]
  },
  {
   "cell_type": "code",
   "execution_count": null,
   "metadata": {
    "collapsed": false
   },
   "outputs": [
    {
     "name": "stderr",
     "output_type": "stream",
     "text": [
      "/opt/conda/envs/python35-paddle120-env/lib/python3.7/site-packages/paddle/distributed/parallel.py:120: UserWarning: Currently not a parallel execution environment, `paddle.distributed.init_parallel_env` will not do anything.\n",
      "  \"Currently not a parallel execution environment, `paddle.distributed.init_parallel_env` will not do anything.\"\n"
     ]
    },
    {
     "name": "stdout",
     "output_type": "stream",
     "text": [
      "[08-12 14:43:43 MainThread @utils.py:79] WRN paddlepaddle version: 2.1.2. The dynamic graph version of PARL is under development, not fully tested and supported\n"
     ]
    },
    {
     "name": "stderr",
     "output_type": "stream",
     "text": [
      "/opt/conda/envs/python35-paddle120-env/lib/python3.7/site-packages/parl/remote/communication.py:38: DeprecationWarning: 'pyarrow.default_serialization_context' is deprecated as of 2.0.0 and will be removed in a future version. Use pickle or the pyarrow IPC functionality instead.\n",
      "  context = pyarrow.default_serialization_context()\n",
      "/opt/conda/envs/python35-paddle120-env/lib/python3.7/site-packages/pyarrow/pandas_compat.py:1027: DeprecationWarning: `np.float` is a deprecated alias for the builtin `float`. To silence this warning, use `float` by itself. Doing this will not modify any behavior and is safe. If you specifically wanted the numpy scalar type, use `np.float64` here.\n",
      "Deprecated in NumPy 1.20; for more details and guidance: https://numpy.org/devdocs/release/1.20.0-notes.html#deprecations\n",
      "  'floating': np.float,\n",
      "/opt/conda/envs/python35-paddle120-env/lib/python3.7/site-packages/matplotlib/__init__.py:107: DeprecationWarning: Using or importing the ABCs from 'collections' instead of from 'collections.abc' is deprecated, and in 3.8 it will stop working\n",
      "  from collections import MutableMapping\n",
      "/opt/conda/envs/python35-paddle120-env/lib/python3.7/site-packages/matplotlib/rcsetup.py:20: DeprecationWarning: Using or importing the ABCs from 'collections' instead of from 'collections.abc' is deprecated, and in 3.8 it will stop working\n",
      "  from collections import Iterable, Mapping\n",
      "/opt/conda/envs/python35-paddle120-env/lib/python3.7/site-packages/matplotlib/colors.py:53: DeprecationWarning: Using or importing the ABCs from 'collections' instead of from 'collections.abc' is deprecated, and in 3.8 it will stop working\n",
      "  from collections import Sized\n",
      "/opt/conda/envs/python35-paddle120-env/lib/python3.7/site-packages/paddle/tensor/creation.py:125: DeprecationWarning: `np.object` is a deprecated alias for the builtin `object`. To silence this warning, use `object` by itself. Doing this will not modify any behavior and is safe. \n",
      "Deprecated in NumPy 1.20; for more details and guidance: https://numpy.org/devdocs/release/1.20.0-notes.html#deprecations\n",
      "  if data.dtype == np.object:\n"
     ]
    }
   ],
   "source": [
    "import paddlex as pdx\r\n",
    "from paddlex import transforms as T"
   ]
  },
  {
   "cell_type": "code",
   "execution_count": null,
   "metadata": {
    "collapsed": false
   },
   "outputs": [],
   "source": [
    "# 定义训练和验证时的transforms\n",
    "# API说明：https://github.com/PaddlePaddle/PaddleX/blob/release/2.0-rc/paddlex/cv/transforms/operators.py\n",
    "train_transforms = T.Compose([\n",
    "    T.MixupImage(mixup_epoch=250), T.RandomDistort(),\n",
    "    T.RandomExpand(im_padding_value=[123.675, 116.28, 103.53]), T.RandomCrop(),\n",
    "    T.RandomHorizontalFlip(), T.BatchRandomResize(\n",
    "        target_sizes=[320, 352, 384, 416, 448, 480, 512, 544, 576, 608],\n",
    "        interp='RANDOM'), T.Normalize(\n",
    "            mean=[0.485, 0.456, 0.406], std=[0.229, 0.224, 0.225])\n",
    "])\n",
    "\n",
    "eval_transforms = T.Compose([\n",
    "    T.Resize(\n",
    "        608, interp='CUBIC'), T.Normalize(\n",
    "            mean=[0.485, 0.456, 0.406], std=[0.229, 0.224, 0.225])\n",
    "])"
   ]
  },
  {
   "cell_type": "code",
   "execution_count": null,
   "metadata": {
    "collapsed": false
   },
   "outputs": [
    {
     "name": "stdout",
     "output_type": "stream",
     "text": [
      "2021-08-12 14:43:56 [INFO]\tStarting to read file list from dataset...\n",
      "2021-08-12 14:44:05 [INFO]\t3500 samples in file MyDataset/train_list.txt\n",
      "creating index...\n",
      "index created!\n",
      "2021-08-12 14:44:05 [INFO]\tStarting to read file list from dataset...\n",
      "2021-08-12 14:44:08 [INFO]\t1000 samples in file MyDataset/val_list.txt\n",
      "creating index...\n",
      "index created!\n"
     ]
    }
   ],
   "source": [
    "# 定义训练和验证所用的数据集\r\n",
    "# API说明：https://github.com/PaddlePaddle/PaddleX/blob/release/2.0-rc/paddlex/cv/datasets/voc.py#L29\r\n",
    "train_dataset = pdx.datasets.VOCDetection(\r\n",
    "    data_dir='MyDataset',\r\n",
    "    file_list='MyDataset/train_list.txt',\r\n",
    "    label_list='MyDataset/labels.txt',\r\n",
    "    transforms=train_transforms,\r\n",
    "    shuffle=True)\r\n",
    "\r\n",
    "eval_dataset = pdx.datasets.VOCDetection(\r\n",
    "    data_dir='MyDataset',\r\n",
    "    file_list='MyDataset/val_list.txt',\r\n",
    "    label_list='MyDataset/labels.txt',\r\n",
    "    transforms=eval_transforms,\r\n",
    "    shuffle=False)"
   ]
  },
  {
   "cell_type": "markdown",
   "metadata": {
    "collapsed": false
   },
   "source": [
    "涉及到PaddleX中目标检测模型的选择，最关键的就是这行代码\n",
    "\n",
    "`pdx.models.YOLOv3(num_classes=num_classes, backbone='DarkNet53')`\n",
    "\n",
    "可以先查看下PaddleX目前提供了哪些目标检测模型以及`backbone`的支持。"
   ]
  },
  {
   "cell_type": "code",
   "execution_count": null,
   "metadata": {
    "collapsed": false
   },
   "outputs": [],
   "source": [
    "??pdx.models.FasterRCNN"
   ]
  },
  {
   "cell_type": "code",
   "execution_count": null,
   "metadata": {
    "collapsed": false
   },
   "outputs": [],
   "source": [
    "??pdx.models.YOLOv3"
   ]
  },
  {
   "cell_type": "code",
   "execution_count": null,
   "metadata": {
    "collapsed": false
   },
   "outputs": [],
   "source": [
    "# 初始化模型，并进行训练\r\n",
    "# 可使用VisualDL查看训练指标，参考https://github.com/PaddlePaddle/PaddleX/tree/release/2.0-rc/tutorials/train#visualdl可视化训练指标\r\n",
    "num_classes = len(train_dataset.labels)\r\n",
    "model = pdx.models.YOLOv3(num_classes=num_classes, backbone='MobileNetV3_ssld')"
   ]
  },
  {
   "cell_type": "code",
   "execution_count": 17,
   "metadata": {
    "collapsed": false
   },
   "outputs": [
    {
     "name": "stdout",
     "output_type": "stream",
     "text": [
      "2021-08-12 17:19:56 [INFO]\tModel saved in output/yolov3_mobilenet/epoch_20.\r"
     ]
    }
   ],
   "source": [
    "# API说明：https://github.com/PaddlePaddle/PaddleX/blob/release/2.0-rc/paddlex/cv/models/detector.py#L155\r\n",
    "# 各参数介绍与调整说明：https://paddlex.readthedocs.io/zh_CN/develop/appendix/parameters.html\r\n",
    "model.train(\r\n",
    "    num_epochs=20,\r\n",
    "    train_dataset=train_dataset,\r\n",
    "    train_batch_size=2,\r\n",
    "    eval_dataset=eval_dataset,\r\n",
    "    learning_rate=0.001 / 8,\r\n",
    "    warmup_steps=1000,\r\n",
    "    warmup_start_lr=0.0,\r\n",
    "    save_interval_epochs=1,\r\n",
    "    lr_decay_epochs=[216, 243],\r\n",
    "    save_dir='output/yolov3_mobilenet')"
   ]
  },
  {
   "cell_type": "markdown",
   "metadata": {
    "collapsed": false
   },
   "source": [
    "可视化训练过程：\n",
    "![](https://ai-studio-static-online.cdn.bcebos.com/a4242c67a6f24c9294c56f8187db000c9748fb7604cc49dca238522a3dc5a1a7)\n"
   ]
  },
  {
   "cell_type": "code",
   "execution_count": null,
   "metadata": {
    "collapsed": false
   },
   "outputs": [],
   "source": []
  },
  {
   "cell_type": "markdown",
   "metadata": {
    "collapsed": false
   },
   "source": [
    "# 模型预测\n",
    "这里，我们不仅可以挑选测试集图片进行预测，还可以写一个简单的逻辑，完成图片中目标数量的计数。比如，我们可以统计下一张图片中，共有多少人未佩戴安全帽。"
   ]
  },
  {
   "cell_type": "code",
   "execution_count": 18,
   "metadata": {
    "collapsed": false
   },
   "outputs": [],
   "source": [
    "??pdx.visualize_detection"
   ]
  },
  {
   "cell_type": "code",
   "execution_count": 19,
   "metadata": {
    "collapsed": false
   },
   "outputs": [
    {
     "name": "stdout",
     "output_type": "stream",
     "text": [
      "2021-08-12 17:20:39 [INFO]\tModel[YOLOv3] loaded.\n",
      "[{'category_id': 0, 'category': 'head', 'bbox': [207.8216552734375, 188.14649963378906, 20.7681884765625, 24.755584716796875], 'score': 0.7588264346122742}, {'category_id': 0, 'category': 'head', 'bbox': [174.79931640625, 188.2290496826172, 20.795257568359375, 24.660491943359375], 'score': 0.8966265320777893}, {'category_id': 0, 'category': 'head', 'bbox': [59.40483856201172, 186.1151580810547, 20.54144287109375, 24.113311767578125], 'score': 0.9385504722595215}, {'category_id': 0, 'category': 'head', 'bbox': [135.0240478515625, 189.11782836914062, 20.638275146484375, 23.9400634765625], 'score': 0.8429598808288574}, {'category_id': 0, 'category': 'head', 'bbox': [300.1785583496094, 186.74708557128906, 20.674560546875, 22.866119384765625], 'score': 0.9601511359214783}, {'category_id': 0, 'category': 'head', 'bbox': [19.802230834960938, 183.97540283203125, 20.374671936035156, 22.974609375], 'score': 0.8881982564926147}, {'category_id': 0, 'category': 'head', 'bbox': [97.51766204833984, 186.80519104003906, 19.523773193359375, 22.49041748046875], 'score': 0.9212336540222168}, {'category_id': 0, 'category': 'head', 'bbox': [265.9747619628906, 185.15316772460938, 20.06463623046875, 21.684722900390625], 'score': 0.758778989315033}, {'category_id': 0, 'category': 'head', 'bbox': [336.4440612792969, 186.39349365234375, 19.196044921875, 22.2176513671875], 'score': 0.8385684490203857}, {'category_id': 0, 'category': 'head', 'bbox': [243.30271911621094, 186.5395050048828, 18.142959594726562, 23.281951904296875], 'score': 0.7144705057144165}]\n",
      "10\n"
     ]
    }
   ],
   "source": [
    "import glob\r\n",
    "import numpy as np\r\n",
    "import threading\r\n",
    "import time\r\n",
    "import random\r\n",
    "import os\r\n",
    "import base64\r\n",
    "import cv2\r\n",
    "import json\r\n",
    "import paddlex as pdx\r\n",
    "# 传入待预测图片\r\n",
    "image_name = 'MyDataset/JPEGImages/hard_hat_workers1035.png'\r\n",
    "# 模型保存位置\r\n",
    "model = pdx.load_model('output/yolov3_mobilenet/best_model')\r\n",
    "\r\n",
    "img = cv2.imread(image_name)\r\n",
    "result = model.predict(img)\r\n",
    "\r\n",
    "keep_results = []\r\n",
    "areas = []\r\n",
    "f = open('./output/yolov3_mobilenet/result.txt', 'a')\r\n",
    "count = 0\r\n",
    "for dt in np.array(result):\r\n",
    "    cname, bbox, score = dt['category'], dt['bbox'], dt['score']\r\n",
    "    if score < 0.5:\r\n",
    "        continue\r\n",
    "    keep_results.append(dt)\r\n",
    "    # 检测到未佩戴安全帽的目标，计数加1\r\n",
    "    if cname == 'head': \r\n",
    "        count += 1\r\n",
    "    f.write(str(dt) + '\\n')\r\n",
    "    f.write('\\n')\r\n",
    "    areas.append(bbox[2] * bbox[3])\r\n",
    "areas = np.asarray(areas)\r\n",
    "sorted_idxs = np.argsort(-areas).tolist()\r\n",
    "keep_results = [keep_results[k]\r\n",
    "                for k in sorted_idxs] if len(keep_results) > 0 else []\r\n",
    "print(keep_results)\r\n",
    "print(count)\r\n",
    "f.write(\"未佩戴安全帽人员总数为: \" + str(int(count)))\r\n",
    "f.close()"
   ]
  },
  {
   "cell_type": "code",
   "execution_count": 20,
   "metadata": {
    "collapsed": false
   },
   "outputs": [
    {
     "name": "stdout",
     "output_type": "stream",
     "text": [
      "2021-08-12 17:20:49 [INFO]\tThe visualized result is saved at ./output/yolov3_mobilenet/visualize_hard_hat_workers1035.png\n"
     ]
    }
   ],
   "source": [
    "pdx.visualize_detection(\r\n",
    "    image_name, result, threshold=0.5, save_dir='./output/yolov3_mobilenet')"
   ]
  },
  {
   "cell_type": "markdown",
   "metadata": {
    "collapsed": false
   },
   "source": [
    "预测结果：\n",
    "```\n",
    "{'category_id': 0, 'category': 'head', 'bbox': [301.3816223144531, 187.12403869628906, 18.0198974609375, 23.79364013671875], 'score': 0.9641125202178955}\n",
    "\n",
    "{'category_id': 0, 'category': 'head', 'bbox': [98.42637634277344, 186.95138549804688, 17.62054443359375, 22.250213623046875], 'score': 0.9461163282394409}\n",
    "\n",
    "{'category_id': 0, 'category': 'head', 'bbox': [60.45779037475586, 186.9356231689453, 18.03213119506836, 24.173797607421875], 'score': 0.940744161605835}\n",
    "\n",
    "{'category_id': 0, 'category': 'head', 'bbox': [244.22019958496094, 187.01390075683594, 16.083084106445312, 22.99420166015625], 'score': 0.940227210521698}\n",
    "\n",
    "{'category_id': 0, 'category': 'head', 'bbox': [136.5784912109375, 189.411865234375, 18.008148193359375, 22.964599609375], 'score': 0.8962541222572327}\n",
    "\n",
    "{'category_id': 0, 'category': 'head', 'bbox': [21.016231536865234, 183.6320343017578, 17.833927154541016, 23.470489501953125], 'score': 0.886038601398468}\n",
    "\n",
    "{'category_id': 0, 'category': 'head', 'bbox': [176.54640197753906, 188.69781494140625, 17.38409423828125, 23.967681884765625], 'score': 0.8675879240036011}\n",
    "\n",
    "{'category_id': 0, 'category': 'head', 'bbox': [337.97821044921875, 186.59945678710938, 16.95550537109375, 22.102203369140625], 'score': 0.8598908185958862}\n",
    "\n",
    "{'category_id': 0, 'category': 'head', 'bbox': [267.6236267089844, 185.5501708984375, 16.89678955078125, 23.020751953125], 'score': 0.8243097066879272}\n",
    "\n",
    "{'category_id': 0, 'category': 'head', 'bbox': [210.44265747070312, 189.28919982910156, 18.027557373046875, 23.715240478515625], 'score': 0.786725640296936}\n",
    "\n",
    "{'category_id': 0, 'category': 'head', 'bbox': [376.5035400390625, 195.9794158935547, 14.513916015625, 20.0159912109375], 'score': 0.5946234464645386}\n",
    "\n",
    "未佩戴安全帽人员总数为: 11\n",
    "```"
   ]
  },
  {
   "cell_type": "markdown",
   "metadata": {
    "collapsed": false
   },
   "source": [
    "![](https://ai-studio-static-online.cdn.bcebos.com/bbe78d37d28f4b49882a870bc989b0400d2c6744f7b04f03a80264ced9ad6286)\n"
   ]
  },
  {
   "cell_type": "markdown",
   "metadata": {
    "collapsed": false
   },
   "source": [
    "# 模型裁剪\n",
    "\n",
    "模型裁剪可以更好地满足在端侧、移动端上部署场景下的性能需求，可以有效得降低模型的体积，以及计算量，加速预测性能。PaddleX集成了PaddleSlim的基于敏感度的通道裁剪算法，通过以下代码，可以在此前训练模型的基础上，加载并进行裁剪，重新开始训练。"
   ]
  },
  {
   "cell_type": "code",
   "execution_count": null,
   "metadata": {
    "collapsed": false
   },
   "outputs": [],
   "source": [
    "# 加载模型\r\n",
    "model = pdx.load_model('output/yolov3_mobilenet/best_model')\r\n",
    "\r\n",
    "# Step 1/3: 分析模型各层参数在不同的剪裁比例下的敏感度\r\n",
    "# API说明：https://github.com/PaddlePaddle/PaddleX/blob/95c53dec89ab0f3769330fa445c6d9213986ca5f/paddlex/cv/models/base.py#L352\r\n",
    "model.analyze_sensitivity(\r\n",
    "    dataset=eval_dataset,\r\n",
    "    batch_size=1,\r\n",
    "    save_dir='output/yolov3_mobilenet/prune')\r\n",
    "\r\n",
    "# Step 2/3: 根据选择的FLOPs减小比例对模型进行剪裁\r\n",
    "# API说明：https://github.com/PaddlePaddle/PaddleX/blob/95c53dec89ab0f3769330fa445c6d9213986ca5f/paddlex/cv/models/base.py#L394\r\n",
    "model.prune(pruned_flops=.2)\r\n",
    "\r\n",
    "# Step 3/3: 对剪裁后的模型重新训练\r\n",
    "# API说明：https://github.com/PaddlePaddle/PaddleX/blob/release/2.0-rc/paddlex/cv/models/detector.py#L154\r\n",
    "# 各参数介绍与调整说明：https://paddlex.readthedocs.io/zh_CN/develop/appendix/parameters.html\r\n",
    "model.train(\r\n",
    "    num_epochs=270,\r\n",
    "    train_dataset=train_dataset,\r\n",
    "    train_batch_size=8,\r\n",
    "    eval_dataset=eval_dataset,\r\n",
    "    learning_rate=0.001 / 8,\r\n",
    "    warmup_steps=1000,\r\n",
    "    warmup_start_lr=0.0,\r\n",
    "    save_interval_epochs=5,\r\n",
    "    lr_decay_epochs=[216, 243],\r\n",
    "    pretrain_weights=None,\r\n",
    "    save_dir='output/yolov3_mobilenet/prune')"
   ]
  },
  {
   "cell_type": "markdown",
   "metadata": {
    "collapsed": false
   },
   "source": [
    "# 小结\n",
    "全面支持动态图的PaddleX，操作流程依然非常简单，在16个小时内，可以很快地完成一个效果良好的安全帽检测模型训练。后续，将继续探索模型在边缘端设备如EdgeBoard的部署实现。"
   ]
  }
 ],
 "metadata": {
  "kernelspec": {
   "display_name": "PaddlePaddle 2.1.2 (Python 3.5)",
   "language": "python",
   "name": "py35-paddle1.2.0"
  },
  "language_info": {
   "codemirror_mode": {
    "name": "ipython",
    "version": 3
   },
   "file_extension": ".py",
   "mimetype": "text/x-python",
   "name": "python",
   "nbconvert_exporter": "python",
   "pygments_lexer": "ipython3",
   "version": "3.7.4"
  }
 },
 "nbformat": 4,
 "nbformat_minor": 1
}
